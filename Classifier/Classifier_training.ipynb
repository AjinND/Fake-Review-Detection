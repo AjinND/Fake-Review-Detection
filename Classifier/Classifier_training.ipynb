{
 "cells": [
  {
   "cell_type": "markdown",
   "metadata": {},
   "source": [
    "# Classifier Training"
   ]
  },
  {
   "cell_type": "code",
   "execution_count": 25,
   "metadata": {},
   "outputs": [
    {
     "name": "stdout",
     "output_type": "stream",
     "text": [
      "            LABEL  RATING  VERIFIED_PURCHASE  SENTIMENT  EncodedTitle\n",
      "6239   __label1__       5                  1          0         16694\n",
      "16871  __label2__       5                  0          0         10625\n",
      "17241  __label2__       5                  1          1          7274\n",
      "3936   __label1__       2                  0          1          8190\n",
      "6355   __label1__       5                  0          0         10154\n",
      "MULTINOMIAL NAIVE BAYES\n",
      "[[1116  393]\n",
      " [ 257 1384]]\n",
      "              precision    recall  f1-score   support\n",
      "\n",
      "           0       0.81      0.74      0.77      1509\n",
      "           1       0.78      0.84      0.81      1641\n",
      "\n",
      "    accuracy                           0.79      3150\n",
      "   macro avg       0.80      0.79      0.79      3150\n",
      "weighted avg       0.80      0.79      0.79      3150\n",
      "\n",
      "0.7936507936507936\n"
     ]
    }
   ],
   "source": [
    "import multiprocessing\n",
    "import pandas as pd\n",
    "import numpy as np\n",
    "from sklearn.preprocessing import LabelEncoder\n",
    "from sklearn.feature_extraction.text import CountVectorizer\n",
    "from sklearn.model_selection import train_test_split\n",
    "from sklearn.naive_bayes import GaussianNB, MultinomialNB, BernoulliNB\n",
    "from sklearn.metrics import confusion_matrix, classification_report, accuracy_score, precision_recall_curve, average_precision_score\n",
    "\n",
    "\n",
    "df = pd.read_csv('Processed_Reviews.csv')\n",
    "#print(df.head(10))\n",
    "\n",
    "df = df.drop(['DOC_ID'], axis=1)\n",
    "#df = df.drop(['PRODUCT_TITLE'], axis=1)\n",
    "df = df.drop(['REVIEW_TITLE'], axis=1)\n",
    "df = df.drop(['REVIEW_TEXT'], axis=1)\n",
    "df = df.drop(['PRODUCT_CATEGORY'], axis=1)\n",
    "df = df.drop(['PRODUCT_ID'], axis=1)\n",
    "df[\"VERIFIED_PURCHASE\"].replace({\"Y\": 1, \"N\": 0}, inplace=True)\n",
    "#df = df.drop(['VERIFIED_PURCHASE'], axis=1)\n",
    "\n",
    "df = df.sample(frac = 1)\n",
    "\n",
    "le = LabelEncoder()\n",
    "df['EncodedTitle'] = le.fit_transform(df['PRODUCT_TITLE'])\n",
    "df = df.drop(['PRODUCT_TITLE'], axis=1)\n",
    "\n",
    "print(df.head())\n",
    "\n",
    "X=df.drop(['LABEL'],axis=1)\n",
    "df['LABEL'].replace({\"__label1__\": 0, \"__label2__\": 1}, inplace=True)\n",
    "y=df['LABEL']\n",
    "\n",
    "#print(y.head())\n",
    "X_train,X_test,y_train,y_test=train_test_split(X,y,test_size=0.15)\n",
    "\n",
    "classifier = MultinomialNB()\n",
    "classifier.fit(X_train, y_train)\n",
    "#print(X_test.head())\n",
    "    \n",
    "y_pred = classifier.predict(X_test)\n",
    "#print(y_pred[:10])\n",
    "\n",
    "#print(X_test[X_test['VERIFIED_PURCHASE']==0].count())\n",
    "\n",
    "print(\"MULTINOMIAL NAIVE BAYES\")\n",
    "print(confusion_matrix(y_test, y_pred))\n",
    "print(classification_report(y_test, y_pred))\n",
    "print(accuracy_score(y_test, y_pred))\n"
   ]
  },
  {
   "cell_type": "markdown",
   "metadata": {},
   "source": [
    "# Saving Classifier"
   ]
  },
  {
   "cell_type": "code",
   "execution_count": 26,
   "metadata": {},
   "outputs": [],
   "source": [
    "import pickle\n",
    "\n",
    "filename = 'Trained_Classifier_model.sav'\n",
    "pickle.dump(classifier, open(filename, \"wb\"))"
   ]
  },
  {
   "cell_type": "markdown",
   "metadata": {},
   "source": [
    "# ROC"
   ]
  },
  {
   "cell_type": "code",
   "execution_count": 28,
   "metadata": {},
   "outputs": [],
   "source": [
    "import sklearn.metrics as metrics\n",
    "\n",
    "preds = y_pred\n",
    "fpr,tpr,threshold = metrics.roc_curve(y_test, preds)\n",
    "roc_auc = metrics.auc(fpr,tpr)"
   ]
  },
  {
   "cell_type": "code",
   "execution_count": 30,
   "metadata": {},
   "outputs": [
    {
     "data": {
      "image/png": "[encoded data removed]",
      "text/plain": [
       "<Figure size 432x288 with 1 Axes>"
      ]
     },
     "metadata": {
      "needs_background": "light"
     },
     "output_type": "display_data"
    }
   ],
   "source": [
    "import matplotlib.pyplot as plt\n",
    "\n",
    "plt.title(\"ROC \")\n",
    "plt.plot(fpr,tpr, 'b', label='AUC = %0.4f' % roc_auc)\n",
    "plt.legend(loc='lower right')\n",
    "plt.plot([0,1], [0,1], 'r--')\n",
    "plt.xlim([0,1])\n",
    "plt.ylim([0,1])\n",
    "plt.ylabel(\"True Positive Rate\")\n",
    "plt.xlabel(\"False Positive Rate\")\n",
    "plt.show()"
   ]
  }
 ],
 "metadata": {
  "kernelspec": {
   "display_name": "Python 3",
   "language": "python",
   "name": "python3"
  },
  "language_info": {
   "codemirror_mode": {
    "name": "ipython",
    "version": 3
   },
   "file_extension": ".py",
   "mimetype": "text/x-python",
   "name": "python",
   "nbconvert_exporter": "python",
   "pygments_lexer": "ipython3",
   "version": "3.7.4"
  }
 },
 "nbformat": 4,
 "nbformat_minor": 2
}
