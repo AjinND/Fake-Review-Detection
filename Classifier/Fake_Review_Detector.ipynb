{
 "cells": [
  {
   "cell_type": "markdown",
   "metadata": {},
   "source": [
    "# Fake Review Detection"
   ]
  },
  {
   "cell_type": "code",
   "execution_count": null,
   "metadata": {},
   "outputs": [],
   "source": [
    "import pickle\n",
    "from sklearn.feature_extraction.text import CountVectorizer, TfidfTransformer\n",
    "import pandas as pd\n",
    "import numpy as np\n",
    "\n",
    "\n",
    "df = pd.read_csv('load_collected_reviews')\n",
    "#print(df.head())\n",
    "sentiment_model = pickle.load(open('load_sentiment_model', 'rb'))\n",
    "#input_list = df['REVIEW_TEXT']\n",
    "    \n",
    "matrix = CountVectorizer(max_features=1000, stop_words=\"english\")\n",
    "input_list = matrix.fit_transform(df['Review Body'].astype('U')).toarray()\n",
    "#print(input_list.shape)\n",
    "\n",
    "result = sentiment_model.predict(TfidfTransformer().fit_transform(input_list))\n",
    "#print(np.unique(result,return_counts=True))\n",
    "#print(result[:100])\n",
    "\n",
    "df['SENTIMENT'] = result\n",
    "#print(df.head())\n",
    "\n",
    "classifer_model = pickle.load(open('load_trained_classifier', 'rb'))\n",
    "df = df.drop(['Customer ID'], axis=1)\n",
    "df = df.drop(['Customer Name'], axis=1)\n",
    "df = df.drop(['Review Titles'], axis=1)\n",
    "df = df.drop(['Review Body'], axis=1)\n",
    "df = df.drop(['Review Date'], axis=1)\n",
    "df = df.drop(['Helpful Votes'], axis=1)\n",
    "print(df[df['Purchase Status']==0].count())\n",
    "\n",
    "result = classifer_model.predict(df)\n",
    "print(result)"
   ]
  },
  {
   "cell_type": "markdown",
   "metadata": {},
   "source": [
    "# Predicting (Second Method)"
   ]
  },
  {
   "cell_type": "code",
   "execution_count": null,
   "metadata": {},
   "outputs": [],
   "source": [
    "import pickle\n",
    "import pandas as pd\n",
    "import numpy as np\n",
    "from sklearn.feature_extraction.text import CountVectorizer, TfidfTransformer\n",
    "from sklearn.preprocessing import LabelEncoder\n",
    "\n",
    "df = pd.read_csv('load_collected_reviews')\n",
    "#print(df.head())\n",
    "sentiment_model = pickle.load(open('load_sentiment_model', 'rb'))\n",
    "input_list = df['Review Body']\n",
    "print(input_list.shape)\n",
    "result = sentiment_model.predict(input_list)\n",
    "#print(np.unique(result,return_counts=True))\n",
    "\n",
    "df['SENTIMENT'] = result\n",
    "df[\"SENTIMENT\"].replace({\"__label__1\": 0, \"__label__2\": 1}, inplace=True)\n",
    "#print(df['SENTIMENT'][:100])\n",
    "\n",
    "#print(df.head())\n",
    "\n",
    "classifer_model = pickle.load(open('load_trained_classifier', 'rb'))\n",
    "df = df.drop(['Customer ID'], axis=1)\n",
    "df = df.drop(['Customer Name'], axis=1)\n",
    "df = df.drop(['Review Titles'], axis=1)\n",
    "df = df.drop(['Review Body'], axis=1)\n",
    "df = df.drop(['Review Date'], axis=1)\n",
    "df = df.drop(['Helpful Votes'], axis=1)\n",
    "\n",
    "le = LabelEncoder()\n",
    "df['Encoded Product Name'] = le.fit_transform(df['Product Name'])\n",
    "df = df.drop(['Product Name'], axis=1)\n",
    "print(df.head())\n",
    "\n",
    "result = classifer_model.predict(df)\n",
    "print(result)"
   ]
  },
  {
   "cell_type": "code",
   "execution_count": null,
   "metadata": {},
   "outputs": [],
   "source": []
  }
 ],
 "metadata": {
  "kernelspec": {
   "display_name": "Python 3",
   "language": "python",
   "name": "python3"
  },
  "language_info": {
   "codemirror_mode": {
    "name": "ipython",
    "version": 3
   },
   "file_extension": ".py",
   "mimetype": "text/x-python",
   "name": "python",
   "nbconvert_exporter": "python",
   "pygments_lexer": "ipython3",
   "version": "3.7.4"
  }
 },
 "nbformat": 4,
 "nbformat_minor": 2
}
