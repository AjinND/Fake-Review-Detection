{
 "cells": [
  {
   "cell_type": "markdown",
   "metadata": {},
   "source": [
    "# Sentiment Analysis"
   ]
  },
  {
   "cell_type": "code",
   "execution_count": 44,
   "metadata": {},
   "outputs": [
    {
     "name": "stdout",
     "output_type": "stream",
     "text": [
      "MULTINOMIAL NAIVE BAYES\n",
      "[[ 92  17]\n",
      " [ 10 101]]\n",
      "              precision    recall  f1-score   support\n",
      "\n",
      "           0       0.90      0.84      0.87       109\n",
      "           1       0.86      0.91      0.88       111\n",
      "\n",
      "    accuracy                           0.88       220\n",
      "   macro avg       0.88      0.88      0.88       220\n",
      "weighted avg       0.88      0.88      0.88       220\n",
      "\n",
      "0.8772727272727273\n"
     ]
    }
   ],
   "source": [
    "import multiprocessing\n",
    "import pandas as pd\n",
    "import pickle\n",
    "from sklearn.feature_extraction.text import TfidfTransformer\n",
    "from sklearn.naive_bayes import GaussianNB, MultinomialNB, BernoulliNB\n",
    "from sklearn.feature_extraction.text import CountVectorizer\n",
    "from sklearn.model_selection import train_test_split\n",
    "from sklearn.metrics import confusion_matrix, classification_report, accuracy_score, precision_recall_curve, average_precision_score\n",
    "\n",
    "def get_data_frame():\n",
    "    dataset = pd.read_csv('labelled.csv')\n",
    "    \n",
    "    #print(dataset)\n",
    "\n",
    "    # get positive class\n",
    "    class_positive = dataset[dataset['Label'] == '__label__2']\n",
    "\n",
    "    # get negative class\n",
    "    class_negative = dataset[dataset['Label'] == '__label__1']\n",
    "\n",
    "    # under sample positive class randomly with the size of negative class\n",
    "    positive_under = class_positive.sample(class_negative.shape[0],replace=True)\n",
    "\n",
    "    # concatenate negative and new under sampled positive class\n",
    "    df_test_under = pd.concat([positive_under, class_negative], axis=0)\n",
    "\n",
    "    return df_test_under\n",
    "\n",
    "def split_train_test(data):\n",
    "    \n",
    "    # creating the feature matrix\n",
    "    matrix = CountVectorizer(max_features=1000, stop_words=\"english\")\n",
    "    #print(data.iloc[:, -1])\n",
    "    X = matrix.fit_transform(data['Review'].values.astype('U')).toarray()\n",
    "    y_tmp = data.iloc[:, 0]\n",
    "    \n",
    "    y = []\n",
    "    for idx, val in y_tmp.iteritems():\n",
    "        if val == '__label__2':\n",
    "            y.append(\"positive\")\n",
    "        elif val == '__label__1':\n",
    "            y.append(\"negative\")\n",
    "\n",
    "    # split train and test data\n",
    "    return train_test_split(X, y,test_size=0.20)\n",
    "\n",
    "\n",
    "def y_to_float(y):\n",
    "    y_float = []\n",
    "    #print(y)\n",
    "    for val in y:\n",
    "        if val == \"positive\":\n",
    "            y_float.append(1)\n",
    "        elif val == \"negative\":\n",
    "            y_float.append(0)\n",
    "    #print(y_float)\n",
    "    return y_float\n",
    "\n",
    "\n",
    "def run_gaussianNB(X_train, X_test, y_train, y_test):\n",
    "    y_train_f = y_to_float(y_train)\n",
    "    #print(y_train_f)\n",
    "    y_test_f = y_to_float(y_test)\n",
    "\n",
    "    # Naive Bayes\n",
    "    classifier = GaussianNB()\n",
    "    classifier.fit(X_train, y_train_f)\n",
    "\n",
    "    # predict class\n",
    "    y_pred = classifier.predict(X_test)\n",
    "\n",
    "    # Confusion matrix\n",
    "    print(\"GAUSSIAN NAIVE BAYES\")\n",
    "    print(confusion_matrix(y_test_f, y_pred))\n",
    "    print(classification_report(y_test_f, y_pred))\n",
    "    print(accuracy_score(y_test_f, y_pred))\n",
    "\n",
    "\n",
    "def run_multinomialNB(X_train, X_test, y_train, y_test):\n",
    "    y_train_f = y_to_float(y_train)\n",
    "    y_test_f = y_to_float(y_test)\n",
    "    tf_transformer = TfidfTransformer().fit_transform(X_train)\n",
    "    #print(tf_transformer.shape)\n",
    "    classifier = MultinomialNB()\n",
    "    classifier.fit(tf_transformer, y_train_f)\n",
    "    \n",
    "    y_pred = classifier.predict(X_test)\n",
    "    \n",
    "    #filename = 'sentiment_analysis_multinomialNB_model.sav'\n",
    "    #pickle.dump(classifier, open(filename, \"wb\"))\n",
    "\n",
    "    # Confusion matrix\n",
    "    print(\"MULTINOMIAL NAIVE BAYES\")\n",
    "    print(confusion_matrix(y_test_f, y_pred))\n",
    "    print(classification_report(y_test_f, y_pred))\n",
    "    print(accuracy_score(y_test_f, y_pred))\n",
    "\n",
    "def run_bernoulliNB(X_train, X_test, y_train, y_test):\n",
    "    y_train_f = y_to_float(y_train)\n",
    "    y_test_f = y_to_float(y_test)\n",
    "\n",
    "    #classifier = BernoulliNB()\n",
    "    #classifier.fit(X_train, y_train_f) \n",
    "\n",
    "    y_pred = classifier.predict(X_test)\n",
    "    #print(X_test)\n",
    "    \n",
    "    filename = 'sentiment_analysis_bernoulliNB_model.sav'\n",
    "    pickle.dump(classifier, open(filename, \"wb\"))\n",
    "\n",
    "    # Confusion matrix\n",
    "    print(\"BERNOULLI NAIVE BAYES\")\n",
    "    print(confusion_matrix(y_test_f, y_pred))\n",
    "    print(classification_report(y_test_f, y_pred))\n",
    "    print(accuracy_score(y_test_f, y_pred))\n",
    "\n",
    "if __name__ == \"__main__\":\n",
    "    data = get_data_frame()\n",
    "    X_train, X_test, y_train, y_test = split_train_test(data)\n",
    "    #print(y_test)\n",
    "    #run_gaussianNB(X_train, X_test, y_train, y_test)\n",
    "    run_multinomialNB(X_train, X_test, y_train, y_test)\n",
    "    #run_bernoulliNB(X_train, X_test, y_train, y_test)"
   ]
  },
  {
   "cell_type": "markdown",
   "metadata": {},
   "source": [
    "# Sentiment Analysis (Using Pipeline) "
   ]
  },
  {
   "cell_type": "code",
   "execution_count": 76,
   "metadata": {},
   "outputs": [
    {
     "name": "stdout",
     "output_type": "stream",
     "text": [
      "0    1\n",
      "1    0\n",
      "2    1\n",
      "3    1\n",
      "4    0\n",
      "Name: Label, dtype: int64\n",
      "0.8191489361702128\n",
      "              precision    recall  f1-score   support\n",
      "\n",
      "           0       0.86      0.79      0.82        99\n",
      "           1       0.78      0.85      0.82        89\n",
      "\n",
      "    accuracy                           0.82       188\n",
      "   macro avg       0.82      0.82      0.82       188\n",
      "weighted avg       0.82      0.82      0.82       188\n",
      "\n",
      "[[78 21]\n",
      " [13 76]]\n"
     ]
    }
   ],
   "source": [
    "import pandas as pd\n",
    "import numpy as np\n",
    "from sklearn.naive_bayes import MultinomialNB\n",
    "from sklearn.pipeline import Pipeline\n",
    "from sklearn.model_selection import train_test_split\n",
    "from sklearn.feature_extraction.text import CountVectorizer, TfidfTransformer, TfidfVectorizer\n",
    "from sklearn import metrics\n",
    "from sklearn.metrics import accuracy_score, classification_report\n",
    "#from sklearn.metrics import confusion_matrix, classification_report, accuracy_score, precision_recall_curve, average_precision_score\n",
    "import pickle\n",
    "\n",
    "'''\n",
    "model = Pipeline([('vect', TfidfVectorizer()), \n",
    "                     ('clf', MultinomialNB()) ])\n",
    "model = Pipeline([ ('vect', CountVectorizer(stop_words='english')),\n",
    "                  ('tfidf', TfidfTransformer()),\n",
    "                 ('clf', MultinomialNB()) ])\n",
    "'''\n",
    "\n",
    "df = pd.read_csv('labelled1.csv')\n",
    "#df.head()\n",
    "\n",
    "X=df.drop(['Label'],axis=1)\n",
    "#print(X.head())\n",
    "\n",
    "df['Label'].replace({\"__label__1 \": \"__label__1\", \"__label__2 \": \"__label__2\"}, inplace=True)\n",
    "df['Label'].replace({\"__label__1\": 0, \"__label__2\": 1}, inplace=True)\n",
    "y=df['Label']\n",
    "#print(y.head())\n",
    "\n",
    "X_train,X_test,y_train,y_test=train_test_split(X,y,test_size=0.15)\n",
    "\n",
    "vt = Pipeline([ ('vect', CountVectorizer(max_features=1000, stop_words='english')),\n",
    "                  ('tfidf', TfidfTransformer()),\n",
    "                 ('clf', MultinomialNB()) ])\n",
    "#print(vt)\n",
    "vt.fit(X_train.transpose().apply(lambda x: ' '.join(x)),y_train)\n",
    "\n",
    "prediction = vt.predict(X_test.transpose().apply(lambda x: ' '.join(x)))\n",
    "\n",
    "#filename = 'finalized_model.sav'\n",
    "#pickle.dump(vt, open(filename, \"wb\"))\n",
    "\n",
    "print(accuracy_score(y_test, prediction))\n",
    "print(classification_report(y_test, prediction))\n",
    "#print(set(y_test) - set(prediction))\n",
    "print(confusion_matrix(y_test, prediction))\n"
   ]
  },
  {
   "cell_type": "code",
   "execution_count": 73,
   "metadata": {},
   "outputs": [],
   "source": [
    "import sklearn.metrics as metrics\n",
    "\n",
    "preds = prediction\n",
    "fpr,tpr,threshold = metrics.roc_curve(y_test, preds)\n",
    "roc_auc = metrics.auc(fpr,tpr)\n"
   ]
  },
  {
   "cell_type": "code",
   "execution_count": 75,
   "metadata": {},
   "outputs": [
    {
     "data": {
      "image/png": "[encoded data removed]",
      "text/plain": [
       "<Figure size 432x288 with 1 Axes>"
      ]
     },
     "metadata": {
      "needs_background": "light"
     },
     "output_type": "display_data"
    }
   ],
   "source": [
    "import matplotlib.pyplot as plt\n",
    "\n",
    "plt.title(\"ROC \")\n",
    "plt.plot(fpr,tpr, 'b', label='AUC = %0.4f' % roc_auc)\n",
    "plt.legend(loc='lower right')\n",
    "plt.plot([0,1], [0,1], 'r--')\n",
    "plt.xlim([0,1])\n",
    "plt.ylim([0,1])\n",
    "plt.ylabel(\"True Positive Rate\")\n",
    "plt.xlabel(\"False Positive Rate\")\n",
    "plt.show()"
   ]
  },
  {
   "cell_type": "markdown",
   "metadata": {},
   "source": [
    "# Saving the model"
   ]
  },
  {
   "cell_type": "code",
   "execution_count": 64,
   "metadata": {},
   "outputs": [],
   "source": [
    "filename = 'finalized_model.sav'\n",
    "pickle.dump(vt, open(filename, \"wb\"))"
   ]
  },
  {
   "cell_type": "markdown",
   "metadata": {},
   "source": [
    "# Predicting using pipeline model"
   ]
  },
  {
   "cell_type": "code",
   "execution_count": null,
   "metadata": {},
   "outputs": [],
   "source": [
    "import pickle\n",
    "import pandas as pd\n",
    "import numpy as np\n",
    "\n",
    "df = pd.read_csv('load_the_file_with_data')\n",
    "#print(df.head())\n",
    "loaded_model = pickle.load(open('finalized_model.sav', 'rb'))\n",
    "input_list = df['Review Body']\n",
    "print(input_list.shape)\n",
    "result = loaded_model.predict(input_list)\n",
    "#print(np.unique(result,return_counts=True))\n",
    "\n",
    "df['SENTIMENT'] = result\n",
    "df[\"SENTIMENT\"].replace({\"__label__1\": \"0\", \"__label__2\": \"1\"}, inplace=True)\n",
    "#print(df['SENTIMENT'][:100])\n",
    "\n",
    "print(df.head())"
   ]
  },
  {
   "cell_type": "markdown",
   "metadata": {},
   "source": [
    "# Predicting using the other model"
   ]
  },
  {
   "cell_type": "code",
   "execution_count": null,
   "metadata": {
    "scrolled": true
   },
   "outputs": [],
   "source": [
    "import pickle\n",
    "from sklearn.feature_extraction.text import CountVectorizer, TfidfTransformer\n",
    "import pandas as pd\n",
    "import numpy as np\n",
    "\n",
    "\n",
    "df = pd.read_csv('load_the_file_with_data')\n",
    "#print(df['Review Body'])\n",
    "loaded_model = pickle.load(open('sentiment_analysis_multinomialNB_model.sav', 'rb'))\n",
    "#input_list = df['REVIEW_TEXT']\n",
    "    \n",
    "matrix = CountVectorizer(max_features=1000, stop_words=\"english\")\n",
    "input_list = matrix.fit_transform(df['Review Body'].values.astype('U')).toarray()\n",
    "print(input_list.shape)\n",
    "result = loaded_model.predict(TfidfTransformer().fit_transform(input_list))\n",
    "#print(np.unique(result,return_counts=True))\n",
    "#print(result[:100])\n",
    "df['SENTIMENT'] = result\n",
    "print(df.head())"
   ]
  },
  {
   "cell_type": "code",
   "execution_count": null,
   "metadata": {},
   "outputs": [],
   "source": []
  }
 ],
 "metadata": {
  "kernelspec": {
   "display_name": "Python 3",
   "language": "python",
   "name": "python3"
  },
  "language_info": {
   "codemirror_mode": {
    "name": "ipython",
    "version": 3
   },
   "file_extension": ".py",
   "mimetype": "text/x-python",
   "name": "python",
   "nbconvert_exporter": "python",
   "pygments_lexer": "ipython3",
   "version": "3.7.4"
  }
 },
 "nbformat": 4,
 "nbformat_minor": 2
}
